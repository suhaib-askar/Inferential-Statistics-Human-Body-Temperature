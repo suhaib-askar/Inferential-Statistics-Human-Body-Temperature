{
 "cells": [
  {
   "cell_type": "markdown",
   "metadata": {},
   "source": [
    "# What is the True Normal Human Body Temperature? \n",
    "\n",
    "#### Background\n",
    "\n",
    "The mean normal body temperature was held to be 37$^{\\circ}$C or 98.6$^{\\circ}$F for more than 120 years since it was first conceptualized and reported by Carl Wunderlich in a famous 1868 book. But, is this value statistically correct?"
   ]
  },
  {
   "cell_type": "markdown",
   "metadata": {},
   "source": [
    "<div class=\"span5 alert alert-info\">\n",
    "<h3>Exercises</h3>\n",
    "\n",
    "<p>In this exercise, you will analyze a dataset of human body temperatures and employ the concepts of hypothesis testing, confidence intervals, and statistical significance.</p>\n",
    "\n",
    "<p>Answer the following questions <b>in this notebook below and submit to your Github account</b>.</p> \n",
    "\n",
    "<ol>\n",
    "<li>  Is the distribution of body temperatures normal? \n",
    "    <ul>\n",
    "    <li> Although this is not a requirement for CLT to hold (read CLT carefully), it gives us some peace of mind that the population may also be normally distributed if we assume that this sample is representative of the population.\n",
    "    </ul>\n",
    "<li>  Is the sample size large? Are the observations independent?\n",
    "    <ul>\n",
    "    <li> Remember that this is a condition for the CLT, and hence the statistical tests we are using, to apply.\n",
    "    </ul>\n",
    "<li>  Is the true population mean really 98.6 degrees F?\n",
    "    <ul>\n",
    "    <li> Would you use a one-sample or two-sample test? Why?\n",
    "    <li> In this situation, is it appropriate to use the $t$ or $z$ statistic? \n",
    "    <li> Now try using the other test. How is the result be different? Why?\n",
    "    </ul>\n",
    "<li>  At what temperature should we consider someone's temperature to be \"abnormal\"?\n",
    "    <ul>\n",
    "    <li> Start by computing the margin of error and confidence interval.\n",
    "    </ul>\n",
    "<li>  Is there a significant difference between males and females in normal temperature?\n",
    "    <ul>\n",
    "    <li> What test did you use and why?\n",
    "    <li> Write a story with your conclusion in the context of the original problem.\n",
    "    </ul>\n",
    "</ol>\n",
    "\n",
    "You can include written notes in notebook cells using Markdown: \n",
    "   - In the control panel at the top, choose Cell > Cell Type > Markdown\n",
    "   - Markdown syntax: http://nestacms.com/docs/creating-content/markdown-cheat-sheet\n",
    "\n",
    "#### Resources\n",
    "\n",
    "+ Information and data sources: http://www.amstat.org/publications/jse/datasets/normtemp.txt, http://www.amstat.org/publications/jse/jse_data_archive.htm\n",
    "+ Markdown syntax: http://nestacms.com/docs/creating-content/markdown-cheat-sheet\n",
    "\n",
    "****\n",
    "</div>"
   ]
  },
  {
   "cell_type": "code",
   "execution_count": 15,
   "metadata": {},
   "outputs": [],
   "source": [
    "import pandas as pd\n",
    "import numpy as np\n",
    "\n",
    "df = pd.read_csv('/Users/Thinslicer/Desktop/Data Scientist Career/Springboard/Inferential Statistics/human_temp/data/human_body_temperature.csv')\n"
   ]
  },
  {
   "cell_type": "markdown",
   "metadata": {},
   "source": [
    "<h><b> Initial EDA </b></h> \n"
   ]
  },
  {
   "cell_type": "code",
   "execution_count": 16,
   "metadata": {},
   "outputs": [
    {
     "name": "stdout",
     "output_type": "stream",
     "text": [
      "<class 'pandas.core.frame.DataFrame'>\n",
      "RangeIndex: 130 entries, 0 to 129\n",
      "Data columns (total 3 columns):\n",
      "temperature    130 non-null float64\n",
      "gender         130 non-null object\n",
      "heart_rate     130 non-null float64\n",
      "dtypes: float64(2), object(1)\n",
      "memory usage: 3.1+ KB\n"
     ]
    }
   ],
   "source": [
    "# Inspect the data to get idea of structure and summmary statistics \n",
    "df.info()"
   ]
  },
  {
   "cell_type": "code",
   "execution_count": 17,
   "metadata": {},
   "outputs": [
    {
     "data": {
      "text/html": [
       "<div>\n",
       "<style>\n",
       "    .dataframe thead tr:only-child th {\n",
       "        text-align: right;\n",
       "    }\n",
       "\n",
       "    .dataframe thead th {\n",
       "        text-align: left;\n",
       "    }\n",
       "\n",
       "    .dataframe tbody tr th {\n",
       "        vertical-align: top;\n",
       "    }\n",
       "</style>\n",
       "<table border=\"1\" class=\"dataframe\">\n",
       "  <thead>\n",
       "    <tr style=\"text-align: right;\">\n",
       "      <th></th>\n",
       "      <th>temperature</th>\n",
       "      <th>heart_rate</th>\n",
       "    </tr>\n",
       "  </thead>\n",
       "  <tbody>\n",
       "    <tr>\n",
       "      <th>count</th>\n",
       "      <td>130.000000</td>\n",
       "      <td>130.000000</td>\n",
       "    </tr>\n",
       "    <tr>\n",
       "      <th>mean</th>\n",
       "      <td>98.249231</td>\n",
       "      <td>73.761538</td>\n",
       "    </tr>\n",
       "    <tr>\n",
       "      <th>std</th>\n",
       "      <td>0.733183</td>\n",
       "      <td>7.062077</td>\n",
       "    </tr>\n",
       "    <tr>\n",
       "      <th>min</th>\n",
       "      <td>96.300000</td>\n",
       "      <td>57.000000</td>\n",
       "    </tr>\n",
       "    <tr>\n",
       "      <th>25%</th>\n",
       "      <td>97.800000</td>\n",
       "      <td>69.000000</td>\n",
       "    </tr>\n",
       "    <tr>\n",
       "      <th>50%</th>\n",
       "      <td>98.300000</td>\n",
       "      <td>74.000000</td>\n",
       "    </tr>\n",
       "    <tr>\n",
       "      <th>75%</th>\n",
       "      <td>98.700000</td>\n",
       "      <td>79.000000</td>\n",
       "    </tr>\n",
       "    <tr>\n",
       "      <th>max</th>\n",
       "      <td>100.800000</td>\n",
       "      <td>89.000000</td>\n",
       "    </tr>\n",
       "  </tbody>\n",
       "</table>\n",
       "</div>"
      ],
      "text/plain": [
       "       temperature  heart_rate\n",
       "count   130.000000  130.000000\n",
       "mean     98.249231   73.761538\n",
       "std       0.733183    7.062077\n",
       "min      96.300000   57.000000\n",
       "25%      97.800000   69.000000\n",
       "50%      98.300000   74.000000\n",
       "75%      98.700000   79.000000\n",
       "max     100.800000   89.000000"
      ]
     },
     "execution_count": 17,
     "metadata": {},
     "output_type": "execute_result"
    }
   ],
   "source": [
    "df.describe()"
   ]
  },
  {
   "cell_type": "code",
   "execution_count": 18,
   "metadata": {},
   "outputs": [
    {
     "data": {
      "text/html": [
       "<div>\n",
       "<style>\n",
       "    .dataframe thead tr:only-child th {\n",
       "        text-align: right;\n",
       "    }\n",
       "\n",
       "    .dataframe thead th {\n",
       "        text-align: left;\n",
       "    }\n",
       "\n",
       "    .dataframe tbody tr th {\n",
       "        vertical-align: top;\n",
       "    }\n",
       "</style>\n",
       "<table border=\"1\" class=\"dataframe\">\n",
       "  <thead>\n",
       "    <tr style=\"text-align: right;\">\n",
       "      <th></th>\n",
       "      <th>temperature</th>\n",
       "      <th>gender</th>\n",
       "      <th>heart_rate</th>\n",
       "    </tr>\n",
       "  </thead>\n",
       "  <tbody>\n",
       "    <tr>\n",
       "      <th>0</th>\n",
       "      <td>99.3</td>\n",
       "      <td>F</td>\n",
       "      <td>68.0</td>\n",
       "    </tr>\n",
       "    <tr>\n",
       "      <th>1</th>\n",
       "      <td>98.4</td>\n",
       "      <td>F</td>\n",
       "      <td>81.0</td>\n",
       "    </tr>\n",
       "    <tr>\n",
       "      <th>2</th>\n",
       "      <td>97.8</td>\n",
       "      <td>M</td>\n",
       "      <td>73.0</td>\n",
       "    </tr>\n",
       "    <tr>\n",
       "      <th>3</th>\n",
       "      <td>99.2</td>\n",
       "      <td>F</td>\n",
       "      <td>66.0</td>\n",
       "    </tr>\n",
       "    <tr>\n",
       "      <th>4</th>\n",
       "      <td>98.0</td>\n",
       "      <td>F</td>\n",
       "      <td>73.0</td>\n",
       "    </tr>\n",
       "    <tr>\n",
       "      <th>5</th>\n",
       "      <td>99.2</td>\n",
       "      <td>M</td>\n",
       "      <td>83.0</td>\n",
       "    </tr>\n",
       "    <tr>\n",
       "      <th>6</th>\n",
       "      <td>98.0</td>\n",
       "      <td>M</td>\n",
       "      <td>71.0</td>\n",
       "    </tr>\n",
       "    <tr>\n",
       "      <th>7</th>\n",
       "      <td>98.8</td>\n",
       "      <td>M</td>\n",
       "      <td>78.0</td>\n",
       "    </tr>\n",
       "    <tr>\n",
       "      <th>8</th>\n",
       "      <td>98.4</td>\n",
       "      <td>F</td>\n",
       "      <td>84.0</td>\n",
       "    </tr>\n",
       "    <tr>\n",
       "      <th>9</th>\n",
       "      <td>98.6</td>\n",
       "      <td>F</td>\n",
       "      <td>86.0</td>\n",
       "    </tr>\n",
       "    <tr>\n",
       "      <th>10</th>\n",
       "      <td>98.8</td>\n",
       "      <td>F</td>\n",
       "      <td>89.0</td>\n",
       "    </tr>\n",
       "    <tr>\n",
       "      <th>11</th>\n",
       "      <td>96.7</td>\n",
       "      <td>F</td>\n",
       "      <td>62.0</td>\n",
       "    </tr>\n",
       "    <tr>\n",
       "      <th>12</th>\n",
       "      <td>98.2</td>\n",
       "      <td>M</td>\n",
       "      <td>72.0</td>\n",
       "    </tr>\n",
       "    <tr>\n",
       "      <th>13</th>\n",
       "      <td>98.7</td>\n",
       "      <td>F</td>\n",
       "      <td>79.0</td>\n",
       "    </tr>\n",
       "    <tr>\n",
       "      <th>14</th>\n",
       "      <td>97.8</td>\n",
       "      <td>F</td>\n",
       "      <td>77.0</td>\n",
       "    </tr>\n",
       "  </tbody>\n",
       "</table>\n",
       "</div>"
      ],
      "text/plain": [
       "    temperature gender  heart_rate\n",
       "0          99.3      F        68.0\n",
       "1          98.4      F        81.0\n",
       "2          97.8      M        73.0\n",
       "3          99.2      F        66.0\n",
       "4          98.0      F        73.0\n",
       "5          99.2      M        83.0\n",
       "6          98.0      M        71.0\n",
       "7          98.8      M        78.0\n",
       "8          98.4      F        84.0\n",
       "9          98.6      F        86.0\n",
       "10         98.8      F        89.0\n",
       "11         96.7      F        62.0\n",
       "12         98.2      M        72.0\n",
       "13         98.7      F        79.0\n",
       "14         97.8      F        77.0"
      ]
     },
     "execution_count": 18,
     "metadata": {},
     "output_type": "execute_result"
    }
   ],
   "source": [
    "df.head(15)"
   ]
  },
  {
   "cell_type": "markdown",
   "metadata": {},
   "source": [
    "<b> Answer to Question 1: </b> Is the distribution of body temperatures normal?"
   ]
  },
  {
   "cell_type": "code",
   "execution_count": 53,
   "metadata": {},
   "outputs": [
    {
     "data": {
      "image/png": "[encoded data removed]",
      "text/plain": [
       "<matplotlib.figure.Figure at 0x117bc1320>"
      ]
     },
     "metadata": {},
     "output_type": "display_data"
    }
   ],
   "source": [
    "# Q1 Is the distribution of body temperatures normal?\n",
    "# Check to see if the human body temperature data is normal using graphical EDA \n",
    "# via plotting its ECDF (empirical cumulative distribution function) to compare to its theoretical normal CDF\n",
    "\n",
    "# Compute the mean and standard deviation of the temperature column \n",
    "temp_mean = np.mean(df.temperature)\n",
    "temp_std = np.std(df.temperature)\n",
    "\n",
    "# Use the above mean and std to draw 10k samples to use for normal distribution test\n",
    "temp_samples = np.random.normal(temp_mean, temp_std, size=10000)\n",
    "\n",
    "#Write a function that compute the ECDF\n",
    "def ecdf(data):\n",
    "    '''Compute ECDF for a one-dimensional array of measurements'''\n",
    "    # Number of data points: n\n",
    "    n = len(data)\n",
    "    # x-data for the ECDF: x\n",
    "    x = np.sort(data)\n",
    "    # y-data for the ECDF: y\n",
    "    y = np.arange(1, n+1) / n\n",
    "    return x, y\n",
    "\n",
    "# Compute the ECDF for the observed data\n",
    "x_obs, y_obs = ecdf(df.temperature)\n",
    "\n",
    "# Compute the theoretical CDF from the sample data\n",
    "x_theor, y_theor = ecdf(temp_samples)\n",
    "\n",
    "# Import matplotlib and seaborn to visualize the two ECDF and theorteical CDF plots\n",
    "import matplotlib.pyplot as plt \n",
    "import seaborn as sns \n",
    "\n",
    "# Plot the two functions to compare and determine if df.tempearture has a normal distribution\n",
    "sns.set()\n",
    "_ = plt.plot(x_theor, y_theor)\n",
    "_ = plt.plot(x_obs, y_obs, marker='.', linestyle='none', color='pink')\n",
    "_ = plt.margins(0.02)\n",
    "_ = plt.xlabel('Human Body Temperature ($^\\circ$F)')\n",
    "_ = plt.ylabel('Theoretical Normal CDF')\n",
    "plt.show()\n",
    "\n",
    "\n",
    "\n",
    "\n",
    "# The first graph here shows that the theoretical CDF and the ECDF overlap which combined with the second graph's shape \n",
    "# below we can conclude that the distribution of body temperature is indeed normally distributed "
   ]
  },
  {
   "cell_type": "code",
   "execution_count": 54,
   "metadata": {},
   "outputs": [
    {
     "data": {
      "image/png": "[encoded data removed]",
      "text/plain": [
       "<matplotlib.figure.Figure at 0x1179c11d0>"
      ]
     },
     "metadata": {},
     "output_type": "display_data"
    }
   ],
   "source": [
    "sns.distplot(df.temperature)\n",
    "plt.xlabel('Human Body Temperature ($^\\circ$F)')\n",
    "plt.ylabel('Frequency')\n",
    "plt.show()"
   ]
  },
  {
   "cell_type": "markdown",
   "metadata": {},
   "source": [
    "<b> Answer to Question 2: </b>   Is the sample size large? Are the observations independent?"
   ]
  },
  {
   "cell_type": "code",
   "execution_count": 40,
   "metadata": {},
   "outputs": [
    {
     "data": {
      "image/png": "[encoded data removed]",
      "text/plain": [
       "<matplotlib.figure.Figure at 0x117e95358>"
      ]
     },
     "metadata": {},
     "output_type": "display_data"
    }
   ],
   "source": [
    "# Q2 Is the sample size large? Are the observations independent?\n",
    "\n",
    "# A sample size of 130 is sufficiently large enough to apply the Central Limit Theorem for data analysis that requires \n",
    "# a sample size > 30 \n",
    "\n",
    "# Unfortunately, looking at your data and trying to see if you have independence or not is usually difficult or impossible. \n",
    "# The key to avoiding violating the assumption of independence is to make sure your data is independent \n",
    "# while you are collecting it. However, we can approximate the data's independence level by plotting its values vs\n",
    "# its index under the assumption that this corresponds to the order of observations (a time variable)\n",
    "# A pattern that is not random suggests lack of independence \n",
    "\n",
    "\n",
    "plt.plot(df.index, df.temperature, marker='.', linestyle='none', color='red')\n",
    "plt.xlabel('Order of Observations')\n",
    "plt.ylabel('Human Body Temperature ($^\\circ$F)' )\n",
    "plt.show()\n",
    "\n",
    "# The Scatter Plot below shows that there are no visible patterns to suggest a lack of observational independence \n"
   ]
  },
  {
   "cell_type": "markdown",
   "metadata": {},
   "source": [
    "<b> Answer to Question 3: </b>   Is the true population mean really 98.6 $^\\circ$F?"
   ]
  },
  {
   "cell_type": "code",
   "execution_count": 66,
   "metadata": {
    "scrolled": true
   },
   "outputs": [
    {
     "name": "stdout",
     "output_type": "stream",
     "text": [
      "Z-score is equal to :  5.455  p-value equal to: 0.000000049\n"
     ]
    }
   ],
   "source": [
    "# Q3 Is the true population mean really 98.6 degrees F?\n",
    "\n",
    "# To test if the true population mean is really 98.6 degrees F we should use a one sample test since we only\n",
    "# have one dataset to compare to a single number instead of two sets of data to perform a two sample test\n",
    "# In this situation, we should use a Z-test since a T-test is appropriate when you are handling small samples (n < 30)\n",
    "# while a Z-test is appropriate when you are handling moderate to large samples (n > 30). \n",
    "# Moreover, A t-test is used to see if two sets of data are significantly different. \n",
    "# A z-test determines the probability that new data will be near the point for which a score was calculated, and we are \n",
    "# testing the sample data against against a predetermined point (98.6F), A t-test would approximate similar results as the degrees \n",
    "# for freedom (n-1) are equal to 129 which will roughly model a z-test distribution\n",
    "\n",
    "# Calculating z-score of temperatures\n",
    "# Importin the z-test function from statsmodels package\n",
    "from statsmodels.stats.weightstats import ztest\n",
    "z = ztest(df.temperature,value=98.6)\n",
    "print(\"Z-score is equal to : %6.3F  p-value equal to: %6.9F\" % (abs(z[0]),z[1]))\n",
    "\n",
    "# As we see below, the p-value < 0.05 and therefore we can reject the null hypothesis \n",
    "# that true population mean temperature = 98.6 F"
   ]
  },
  {
   "cell_type": "code",
   "execution_count": 70,
   "metadata": {},
   "outputs": [
    {
     "name": "stdout",
     "output_type": "stream",
     "text": [
      "0.0\n"
     ]
    },
    {
     "data": {
      "text/plain": [
       "array([ 98.12461538,  98.37538462])"
      ]
     },
     "execution_count": 70,
     "metadata": {},
     "output_type": "execute_result"
    }
   ],
   "source": [
    "# To use a t-test we can bootstrap 10k samples, this should yield a distribution that's very close to the true mean\n",
    "\n",
    "bs_replicates = np.empty(10000)\n",
    "\n",
    "for i in range(10000):\n",
    "    bs_temp = np.random.choice(df.temperature, size= len(df.temperature))\n",
    "    bs_replicates[i] = np.mean(bs_temp)\n",
    "    \n",
    "p = np.sum(bs_replicates >= 98.6) / len(bs_replicates)\n",
    "print(p)\n",
    "np.percentile(bs_replicates, [2.5, 97.5])"
   ]
  },
  {
   "cell_type": "code",
   "execution_count": null,
   "metadata": {
    "collapsed": true
   },
   "outputs": [],
   "source": [
    "# The t-test led to the same conclusion of rejecting the Ho: null hypothesis that the true pop mean is 98.6 \n",
    "# its P-value is similar to that of the z-test, and we can be 95% confident that the true mean lies between 98.12-98.38"
   ]
  },
  {
   "cell_type": "markdown",
   "metadata": {},
   "source": [
    "<b> Answer to Question 4: </b>   At what temperature should we consider someone's temperature to be \"abnormal\"?"
   ]
  },
  {
   "cell_type": "code",
   "execution_count": 85,
   "metadata": {
    "scrolled": true
   },
   "outputs": [
    {
     "name": "stdout",
     "output_type": "stream",
     "text": [
      "The real mean population temperature is 98.2 F +/- 0.12555 F\n",
      "We can be 95% confident that the NORMAL human body temperature is between [ 98.12461538  98.37538462]\n",
      "A person's temperature outside this range is considered to be ABNORMAL\n"
     ]
    }
   ],
   "source": [
    "# Q4 At what temperature should we consider someone's temperature to be \"abnormal\"?\n",
    "\n",
    "# Margin of error calculation\n",
    "import scipy.stats as stats\n",
    "    # CI=95%, 2-tail= CI=97.5%, 1-tail\n",
    "critical_z = stats.norm.ppf(0.975)\n",
    "std = np.std(df.temperature)\n",
    "moe_z = std * critical_z / np.sqrt(130)\n",
    "\n",
    "print('The real mean population temperature is %0.1F F +/- %0.5F F' % (temp_mean, moe_z))\n",
    "\n",
    "# The 95% confidence interval above indicates that the normal range of temperature is 98.12 - 98.38\n",
    "print('We can be 95% confident that the NORMAL human body temperature is between', np.percentile(bs_replicates, [2.5, 97.5]))\n",
    "print('A person\\'s temperature outside this range is considered to be ABNORMAL')"
   ]
  },
  {
   "cell_type": "markdown",
   "metadata": {},
   "source": [
    "<b> Answer to Question 5: </b>   Is there a significant difference between males and females in normal temperature?"
   ]
  },
  {
   "cell_type": "code",
   "execution_count": 99,
   "metadata": {
    "scrolled": true
   },
   "outputs": [
    {
     "data": {
      "image/png": "[encoded data removed]",
      "text/plain": [
       "<matplotlib.figure.Figure at 0x117905fd0>"
      ]
     },
     "metadata": {},
     "output_type": "display_data"
    }
   ],
   "source": [
    "# Separate male and female temperatures in data\n",
    "males = df[df.gender == 'M']\n",
    "females = df[df.gender == 'F']\n",
    "\n",
    "# To test our Ho Null Hypothesis: males_temp = females_temp,  \n",
    "# We start by performing graphical EDA\n",
    "\n",
    "# Compute ECDFs\n",
    "x_male, y_male = ecdf(males.temperature)\n",
    "x_female, y_female = ecdf(females.temperature)\n",
    "\n",
    "# Plot the ECDFs\n",
    "plt.plot(x_male, y_male, marker='.', linestyle='none')\n",
    "plt.plot(x_female, y_female, marker='.', linestyle='none')\n",
    "\n",
    "# Set margins\n",
    "plt.margins(0.02)\n",
    "\n",
    "# Add axis labels and legend\n",
    "_ = plt.xlabel('Human Body Temperature ($^\\circ$F)')\n",
    "_ = plt.ylabel('ECDF')\n",
    "_ = plt.legend(('Males_temp', 'Females_temp'), loc='lower right')\n",
    "\n",
    "# Show the plot\n",
    "plt.show()\n"
   ]
  },
  {
   "cell_type": "markdown",
   "metadata": {},
   "source": [
    "The ECDF plot shows that our null hypothesis does indeed seem to be wrong and that there is a diffference between males and females temperature. "
   ]
  },
  {
   "cell_type": "markdown",
   "metadata": {},
   "source": [
    "To test if this observation is statistically significant we will perform a bootstrap sampling of the data 10,000 times to rule out that this difference is due to random chance below. "
   ]
  },
  {
   "cell_type": "code",
   "execution_count": 125,
   "metadata": {},
   "outputs": [
    {
     "name": "stdout",
     "output_type": "stream",
     "text": [
      "Female_temp_mean =  98.39384615384613 Male_temp_mean =  98.1046153846154\n",
      "Difference of means between males and females = 0.289230769230727 degrees F\n",
      "We are 95% confident that the true difference lies between = [ 0.03538462  0.53846154]\n"
     ]
    }
   ],
   "source": [
    "# First we compute to see what is the ACTUAL difference of the sample means: mean_diff\n",
    "mean_diff =  np.mean(females.temperature) - np.mean(males.temperature)\n",
    "\n",
    "# Then we use bootstrap sampling to provide a confidence interval \n",
    "\n",
    "# Write a function to get bootstrap replicates \n",
    "def draw_bs_reps(data, func, size=1):\n",
    "    \"\"\"Draw bootstrap replicates.\"\"\"\n",
    "    # Initialize array of replicates: bs_replicates\n",
    "    bs_replicates = np.empty(size)\n",
    "    # Generate replicates\n",
    "    for i in range(size):\n",
    "        bs_replicates[i] = func(np.random.choice(data, size=len(data)))\n",
    "    return bs_replicates\n",
    "\n",
    "# Get boostrap replicates of means\n",
    "bs_replicates_males = draw_bs_reps(males.temperature, np.mean, size=10000)\n",
    "bs_replicates_females = draw_bs_reps(females.temperature, np.mean, size=10000)\n",
    "\n",
    "# Compute samples of difference of means \n",
    "bs_diff_replicates = bs_replicates_females - bs_replicates_males \n",
    "\n",
    "# Compute 95% confidence interval \n",
    "ci = np.percentile(bs_diff_replicates, [2.5, 97.5])\n",
    "\n",
    "# Print the results\n",
    "print('Female_temp_mean = ', np.mean(females.temperature), 'Male_temp_mean = ', np.mean(males.temperature))\n",
    "print('Difference of means between males and females =', mean_diff, 'degrees F')\n",
    "print('We are 95% confident that the true difference lies between =', ci, )\n"
   ]
  },
  {
   "cell_type": "code",
   "execution_count": 122,
   "metadata": {},
   "outputs": [
    {
     "name": "stdout",
     "output_type": "stream",
     "text": [
      "p-value is 0.0109\n"
     ]
    }
   ],
   "source": [
    "# We then test if this 0.28923 difference is not due to random chance\n",
    "\n",
    "# Compute mean of combined data set\n",
    "combined_mean = np.mean(np.concatenate((females.temperature, males.temperature)))\n",
    "\n",
    "# Shift the samples \n",
    "females_temp_shifted = females.temperature - np.mean(females.temperature) + combined_mean\n",
    "males_temp_shifted = males.temperature - np.mean(males.temperature) + combined_mean\n",
    "\n",
    "# Get bootstrap replicates of shifted data sets\n",
    "bs_rep_fem_sh = draw_bs_reps(females_temp_shifted, np.mean, size=10000)\n",
    "bs_rep_m_sh = draw_bs_reps(males_temp_shifted, np.mean, size=10000)\n",
    "\n",
    "# Compute replicates of difference of means \n",
    "bs_diff = bs_rep_fem_sh - bs_rep_m_sh\n",
    "\n",
    "# Compute p-value \n",
    "p = np.sum(bs_diff >= mean_diff) / len(bs_diff)\n",
    "\n",
    "print('p-value is', p)"
   ]
  },
  {
   "cell_type": "markdown",
   "metadata": {},
   "source": [
    "This low p-value suggests that there is a statistically significant difference between males and females temperature. "
   ]
  },
  {
   "cell_type": "code",
   "execution_count": null,
   "metadata": {
    "collapsed": true
   },
   "outputs": [],
   "source": []
  },
  {
   "cell_type": "code",
   "execution_count": null,
   "metadata": {
    "collapsed": true
   },
   "outputs": [],
   "source": []
  },
  {
   "cell_type": "code",
   "execution_count": null,
   "metadata": {
    "collapsed": true
   },
   "outputs": [],
   "source": []
  },
  {
   "cell_type": "code",
   "execution_count": null,
   "metadata": {
    "collapsed": true
   },
   "outputs": [],
   "source": []
  },
  {
   "cell_type": "code",
   "execution_count": null,
   "metadata": {
    "collapsed": true
   },
   "outputs": [],
   "source": []
  }
 ],
 "metadata": {
  "kernelspec": {
   "display_name": "Python 3",
   "language": "python",
   "name": "python3"
  },
  "language_info": {
   "codemirror_mode": {
    "name": "ipython",
    "version": 3
   },
   "file_extension": ".py",
   "mimetype": "text/x-python",
   "name": "python",
   "nbconvert_exporter": "python",
   "pygments_lexer": "ipython3",
   "version": "3.6.1"
  }
 },
 "nbformat": 4,
 "nbformat_minor": 1
}
